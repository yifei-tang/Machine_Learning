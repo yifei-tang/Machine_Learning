{
 "cells": [
  {
   "cell_type": "code",
   "execution_count": 1,
   "metadata": {},
   "outputs": [],
   "source": [
    "import tensorflow as tf\n",
    "mnist = tf.keras.datasets.mnist\n",
    "\n",
    "class myCallback(tf.keras.callbacks.Callback):\n",
    "  def on_epoch_end(self, epoch, logs={}):\n",
    "    if(logs.get('acc')>0.99):\n",
    "      print(\"\\nReached 99% accuracy so cancelling training!\")\n",
    "      self.model.stop_training = True\n",
    "        \n",
    "(x_train, y_train),(x_test, y_test) = mnist.load_data()\n",
    "x_train, x_test = x_train / 255.0, x_test / 255.0\n",
    "\n",
    "call=myCallback()\n",
    "\n",
    "\n"
   ]
  },
  {
   "cell_type": "code",
   "execution_count": 2,
   "metadata": {},
   "outputs": [],
   "source": [
    "#designing the model\n",
    "model = tf.keras.models.Sequential([\n",
    "    tf.keras.layers.Flatten(), #flattens the dataset for our input layer\n",
    "    tf.keras.layers.Dense(1024,activation=tf.nn.relu), #hidden layer\n",
    "    tf.keras.layers.Dense(10,activation=tf.nn.softmax) #final layer - softmax finds the highest value in set of 10\n",
    "])\n"
   ]
  },
  {
   "cell_type": "code",
   "execution_count": 3,
   "metadata": {},
   "outputs": [
    {
     "name": "stdout",
     "output_type": "stream",
     "text": [
      "WARNING:tensorflow:From /home/yifei/.conda/envs/ART/lib/python3.5/site-packages/tensorflow/python/ops/resource_variable_ops.py:435: colocate_with (from tensorflow.python.framework.ops) is deprecated and will be removed in a future version.\n",
      "Instructions for updating:\n",
      "Colocations handled automatically by placer.\n"
     ]
    }
   ],
   "source": [
    "#compiling the model\n",
    "model.compile(optimizer='adam',\n",
    "              loss='sparse_categorical_crossentropy',\n",
    "              metrics=['accuracy'])"
   ]
  },
  {
   "cell_type": "code",
   "execution_count": 4,
   "metadata": {},
   "outputs": [
    {
     "name": "stdout",
     "output_type": "stream",
     "text": [
      "Epoch 1/10\n",
      "60000/60000 [==============================] - 26s 434us/sample - loss: 0.1856 - acc: 0.9445\n",
      "Epoch 2/10\n",
      "60000/60000 [==============================] - 24s 397us/sample - loss: 0.0760 - acc: 0.9768\n",
      "Epoch 3/10\n",
      "60000/60000 [==============================] - 26s 429us/sample - loss: 0.0489 - acc: 0.9845\n",
      "Epoch 4/10\n",
      "60000/60000 [==============================] - 26s 430us/sample - loss: 0.0336 - acc: 0.9894\n",
      "Epoch 5/10\n",
      "59840/60000 [============================>.] - ETA: 0s - loss: 0.0267 - acc: 0.9912\n",
      "Reached 99% accuracy so cancelling training!\n",
      "60000/60000 [==============================] - 24s 399us/sample - loss: 0.0267 - acc: 0.9911\n",
      "10000/10000 [==============================] - 1s 66us/sample - loss: 0.0705 - acc: 0.9808\n"
     ]
    },
    {
     "data": {
      "text/plain": [
       "[0.07053491540018003, 0.9808]"
      ]
     },
     "execution_count": 4,
     "metadata": {},
     "output_type": "execute_result"
    }
   ],
   "source": [
    "#fitting the model with 10 epochs\n",
    "model.fit(x_train, y_train, epochs=10, callbacks=[call])\n",
    "\n",
    "model.evaluate(x_test,y_test)\n"
   ]
  }
 ],
 "metadata": {
  "kernelspec": {
   "display_name": "Python [conda env:ART]",
   "language": "python",
   "name": "conda-env-ART-py"
  },
  "language_info": {
   "codemirror_mode": {
    "name": "ipython",
    "version": 3
   },
   "file_extension": ".py",
   "mimetype": "text/x-python",
   "name": "python",
   "nbconvert_exporter": "python",
   "pygments_lexer": "ipython3",
   "version": "3.5.6"
  }
 },
 "nbformat": 4,
 "nbformat_minor": 2
}
