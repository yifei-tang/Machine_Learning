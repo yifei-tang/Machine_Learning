{
 "cells": [
  {
   "cell_type": "code",
   "execution_count": 8,
   "metadata": {},
   "outputs": [
    {
     "name": "stdout",
     "output_type": "stream",
     "text": [
      "_________________________________________________________________\n",
      "Layer (type)                 Output Shape              Param #   \n",
      "=================================================================\n",
      "conv2d_4 (Conv2D)            (None, 26, 26, 64)        640       \n",
      "_________________________________________________________________\n",
      "max_pooling2d_4 (MaxPooling2 (None, 13, 13, 64)        0         \n",
      "_________________________________________________________________\n",
      "flatten_4 (Flatten)          (None, 10816)             0         \n",
      "_________________________________________________________________\n",
      "dense_8 (Dense)              (None, 512)               5538304   \n",
      "_________________________________________________________________\n",
      "dense_9 (Dense)              (None, 10)                5130      \n",
      "=================================================================\n",
      "Total params: 5,544,074\n",
      "Trainable params: 5,544,074\n",
      "Non-trainable params: 0\n",
      "_________________________________________________________________\n"
     ]
    }
   ],
   "source": [
    "import tensorflow as tf\n",
    "mnist = tf.keras.datasets.mnist\n",
    "\n",
    "class myCallback(tf.keras.callbacks.Callback):\n",
    "  def on_epoch_end(self, epoch, logs={}):\n",
    "    if(logs.get('acc')>0.998):\n",
    "      print(\"\\nReached 99.8% accuracy so cancelling training!\")\n",
    "      self.model.stop_training = True\n",
    "        \n",
    "(x_train, y_train),(x_test, y_test) = mnist.load_data() #x values are images, y values are labels \n",
    "\n",
    "x_train=x_train.reshape(60000,28,28,1);\n",
    "x_test=x_test.reshape(10000,28,28,1);\n",
    "\n",
    "x_train= x_train / 255.0\n",
    "x_test=x_test / 255.0\n",
    "\n",
    "call=myCallback()\n",
    "\n",
    "#designing the model\n",
    "model = tf.keras.models.Sequential([\n",
    "    tf.keras.layers.Conv2D(64,(3,3),activation='relu',input_shape=(28,28,1)),\n",
    "    tf.keras.layers.MaxPooling2D(2,2),\n",
    "    tf.keras.layers.Flatten(), #flattens the dataset for our input layer\n",
    "    tf.keras.layers.Dense(512,activation=tf.nn.relu), #hidden layer\n",
    "    tf.keras.layers.Dense(10,activation=tf.nn.softmax) #final layer - softmax finds the highest value in set of 10\n",
    "])\n",
    "\n",
    "#compiling the model\n",
    "model.compile(optimizer='adam',\n",
    "              loss='sparse_categorical_crossentropy',\n",
    "              metrics=['accuracy'])\n",
    "model.summary()"
   ]
  },
  {
   "cell_type": "code",
   "execution_count": 9,
   "metadata": {},
   "outputs": [
    {
     "name": "stdout",
     "output_type": "stream",
     "text": [
      "Epoch 1/20\n",
      "60000/60000 [==============================] - 229s 4ms/sample - loss: 0.1170 - acc: 0.9635\n",
      "Epoch 2/20\n",
      "60000/60000 [==============================] - 199s 3ms/sample - loss: 0.0398 - acc: 0.9874\n",
      "Epoch 3/20\n",
      "60000/60000 [==============================] - 198s 3ms/sample - loss: 0.0203 - acc: 0.9938\n",
      "Epoch 4/20\n",
      "60000/60000 [==============================] - 206s 3ms/sample - loss: 0.0132 - acc: 0.9956\n",
      "Epoch 5/20\n",
      "60000/60000 [==============================] - 249s 4ms/sample - loss: 0.0106 - acc: 0.9965\n",
      "Epoch 6/20\n",
      "60000/60000 [==============================] - 237s 4ms/sample - loss: 0.0071 - acc: 0.9977\n",
      "Epoch 7/20\n",
      "60000/60000 [==============================] - 231s 4ms/sample - loss: 0.0063 - acc: 0.9978\n",
      "Epoch 8/20\n",
      "59968/60000 [============================>.] - ETA: 0s - loss: 0.0059 - acc: 0.9981\n",
      "Reached 99.8% accuracy so cancelling training!\n",
      "60000/60000 [==============================] - 221s 4ms/sample - loss: 0.0059 - acc: 0.9981\n",
      "10000/10000 [==============================] - 4s 360us/sample - loss: 0.0716 - acc: 0.9845\n"
     ]
    }
   ],
   "source": [
    "\n",
    "#fitting the model with 20 epochs\n",
    "model.fit(x_train, y_train, epochs=20, callbacks=[call])\n",
    "test_loss=model.evaluate(x_test,y_test)"
   ]
  }
 ],
 "metadata": {
  "kernelspec": {
   "display_name": "Python [conda env:ART]",
   "language": "python",
   "name": "conda-env-ART-py"
  },
  "language_info": {
   "codemirror_mode": {
    "name": "ipython",
    "version": 3
   },
   "file_extension": ".py",
   "mimetype": "text/x-python",
   "name": "python",
   "nbconvert_exporter": "python",
   "pygments_lexer": "ipython3",
   "version": "3.5.6"
  }
 },
 "nbformat": 4,
 "nbformat_minor": 2
}
