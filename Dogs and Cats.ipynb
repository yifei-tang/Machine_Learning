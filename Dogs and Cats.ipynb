{
 "cells": [
  {
   "cell_type": "code",
   "execution_count": 1,
   "metadata": {},
   "outputs": [],
   "source": [
    "import tensorflow as tf\n",
    "import os\n",
    "import matplotlib.pyplot as plt\n",
    "import cv2\n",
    "import numpy as np\n"
   ]
  },
  {
   "cell_type": "code",
   "execution_count": 6,
   "metadata": {},
   "outputs": [
    {
     "name": "stdout",
     "output_type": "stream",
     "text": [
      "/home/yifei/Downloads/PetImages/Cat\n",
      "[[129 135 141 ... 188 189 190]\n",
      " [130 134 139 ... 188 189 191]\n",
      " [131 134 138 ... 189 190 191]\n",
      " ...\n",
      " [ 54  83  83 ... 255 255 255]\n",
      " [ 57  83  78 ... 255 255 255]\n",
      " [ 54  78  70 ... 255 255 255]]\n"
     ]
    }
   ],
   "source": [
    "DATA_PATH='/home/yifei/Downloads/PetImages'\n",
    "CATEGORIES=['Dog','Cat']\n",
    "\n",
    "for category in CATEGORIES:\n",
    "    my_path=os.path.join(DATA_PATH,category)\n",
    "    for image in os.listdir(my_path):\n",
    "        img_array=cv2.imread(os.path.join(my_path,image),cv2.IMREAD_GRAYSCALE) #this will be in grayscale\n",
    "        #plt.imshow(img_array,cmap='gray')\n",
    "        #plt.show()\n"
   ]
  },
  {
   "cell_type": "code",
   "execution_count": 22,
   "metadata": {},
   "outputs": [
    {
     "data": {
      "text/plain": [
       "<matplotlib.image.AxesImage at 0x7f673c6dc7f0>"
      ]
     },
     "execution_count": 22,
     "metadata": {},
     "output_type": "execute_result"
    },
    {
     "data": {
      "image/png": "[encoded data removed]",
      "text/plain": [
       "<Figure size 432x288 with 1 Axes>"
      ]
     },
     "metadata": {
      "needs_background": "light"
     },
     "output_type": "display_data"
    }
   ],
   "source": [
    "IMG_SIZE=100\n",
    "new_array=cv2.resize(img_array,(IMG_SIZE,IMG_SIZE))\n",
    "plt.imshow(new_array,cmap='gray')"
   ]
  },
  {
   "cell_type": "code",
   "execution_count": 31,
   "metadata": {},
   "outputs": [
    {
     "name": "stdout",
     "output_type": "stream",
     "text": [
      "24946\n"
     ]
    }
   ],
   "source": [
    "x_train=[] #create an empty list for training data\n",
    "def create_training_data():\n",
    "    for category in CATEGORIES:\n",
    "        my_path=os.path.join(DATA_PATH,category)\n",
    "        classnum=CATEGORIES.index(category) #gives you the index at that category (0 or 1)\n",
    "        \n",
    "        for image in os.listdir(my_path):\n",
    "            try:\n",
    "                img_array=cv2.imread(os.path.join(my_path,image),cv2.IMREAD_GRAYSCALE) #this will be in grayscale\n",
    "                new_array=cv2.resize(img_array,(IMG_SIZE,IMG_SIZE)) #resize every image before passing it in\n",
    "                x_train.append([new_array,classnum])\n",
    "            except Exception as e:\n",
    "                pass\n",
    "            \n",
    "\n",
    "create_training_data()\n",
    "print(len(x_train))"
   ]
  },
  {
   "cell_type": "code",
   "execution_count": 55,
   "metadata": {},
   "outputs": [
    {
     "name": "stdout",
     "output_type": "stream",
     "text": [
      "[array([[152, 154, 154, ..., 245, 245, 246],\n",
      "       [152, 154, 154, ..., 247, 247, 248],\n",
      "       [153, 153, 154, ..., 246, 247, 248],\n",
      "       ...,\n",
      "       [155, 209, 185, ..., 218, 223, 229],\n",
      "       [162, 157, 191, ..., 224, 198, 206],\n",
      "       [187, 156, 151, ..., 210, 222, 220]], dtype=uint8), 1]\n"
     ]
    }
   ],
   "source": [
    "#shuffle data \n",
    "import random\n",
    "random.shuffle(x_train)\n",
    "\n",
    "print(x_train[0])"
   ]
  },
  {
   "cell_type": "code",
   "execution_count": 84,
   "metadata": {},
   "outputs": [
    {
     "name": "stdout",
     "output_type": "stream",
     "text": [
      "(24946, 100, 100, 1)\n",
      "24946\n"
     ]
    }
   ],
   "source": [
    "import pickle\n",
    "x=[]\n",
    "y=[]\n",
    "for features, label in x_train:\n",
    "    x.append(features)\n",
    "    y.append(label) #create lists of features and labels \n",
    "#we cannot pass a list into neural network, we need to use a numpy array\n",
    "x=np.array(x).reshape(-1,IMG_SIZE,IMG_SIZE,1) #1 is for grayscale, -1 represents unknown dimension for np to resolve\n",
    "print(x.shape)\n",
    "\n",
    "#save data\n",
    "pickle_out=open('x.pickle','wb')\n",
    "pickle.dump(x,pickle_out)\n",
    "pickle_out.close();\n",
    "\n",
    "pickle_out=open('y.pickle','wb')\n",
    "pickle.dump(y,pickle_out)\n",
    "pickle_out.close();\n",
    "\n",
    "print(len(y))"
   ]
  },
  {
   "cell_type": "code",
   "execution_count": 2,
   "metadata": {},
   "outputs": [],
   "source": [
    "import pickle\n",
    "pickle_in=open('x.pickle','rb')\n",
    "x=pickle.load(pickle_in)\n",
    "\n",
    "pickle_in=open('y.pickle','rb')\n",
    "y=pickle.load(pickle_in)\n",
    "\n",
    "x=x/255.0"
   ]
  },
  {
   "cell_type": "code",
   "execution_count": 3,
   "metadata": {},
   "outputs": [
    {
     "name": "stdout",
     "output_type": "stream",
     "text": [
      "WARNING:tensorflow:From /home/yifei/.conda/envs/ART/lib/python3.5/site-packages/tensorflow/python/ops/resource_variable_ops.py:435: colocate_with (from tensorflow.python.framework.ops) is deprecated and will be removed in a future version.\n",
      "Instructions for updating:\n",
      "Colocations handled automatically by placer.\n",
      "[[[0.59607843]\n",
      "  [0.60392157]\n",
      "  [0.60392157]\n",
      "  ...\n",
      "  [0.96078431]\n",
      "  [0.96078431]\n",
      "  [0.96470588]]\n",
      "\n",
      " [[0.59607843]\n",
      "  [0.60392157]\n",
      "  [0.60392157]\n",
      "  ...\n",
      "  [0.96862745]\n",
      "  [0.96862745]\n",
      "  [0.97254902]]\n",
      "\n",
      " [[0.6       ]\n",
      "  [0.6       ]\n",
      "  [0.60392157]\n",
      "  ...\n",
      "  [0.96470588]\n",
      "  [0.96862745]\n",
      "  [0.97254902]]\n",
      "\n",
      " ...\n",
      "\n",
      " [[0.60784314]\n",
      "  [0.81960784]\n",
      "  [0.7254902 ]\n",
      "  ...\n",
      "  [0.85490196]\n",
      "  [0.8745098 ]\n",
      "  [0.89803922]]\n",
      "\n",
      " [[0.63529412]\n",
      "  [0.61568627]\n",
      "  [0.74901961]\n",
      "  ...\n",
      "  [0.87843137]\n",
      "  [0.77647059]\n",
      "  [0.80784314]]\n",
      "\n",
      " [[0.73333333]\n",
      "  [0.61176471]\n",
      "  [0.59215686]\n",
      "  ...\n",
      "  [0.82352941]\n",
      "  [0.87058824]\n",
      "  [0.8627451 ]]]\n"
     ]
    }
   ],
   "source": [
    "class myCallback(tf.keras.callbacks.Callback):\n",
    "  def on_epoch_end(self, epoch, logs={}):\n",
    "    if(logs.get('acc')>0.95):\n",
    "      print(\"\\nReached 95% accuracy so cancelling training!\")\n",
    "      self.model.stop_training = True\n",
    "        \n",
    "def createModel():\n",
    "    model = tf.keras.models.Sequential([\n",
    "        tf.keras.layers.Conv2D(64,(3,3),activation='relu',input_shape=x.shape[1:]),\n",
    "        tf.keras.layers.MaxPooling2D(2,2),\n",
    "        tf.keras.layers.Flatten(), #flattens the dataset for our input layer\n",
    "        tf.keras.layers.Dense(512,activation=tf.nn.relu), #hidden layer\n",
    "        tf.keras.layers.Dense(1,activation='sigmoid') #sigmoid for final layer\n",
    "    ])\n",
    "    return model\n",
    "\n",
    "call=myCallback()\n",
    "model=createMode()\n"
   ]
  },
  {
   "cell_type": "code",
   "execution_count": 4,
   "metadata": {},
   "outputs": [
    {
     "name": "stdout",
     "output_type": "stream",
     "text": [
      "Train on 22451 samples, validate on 2495 samples\n",
      "WARNING:tensorflow:From /home/yifei/.conda/envs/ART/lib/python3.5/site-packages/tensorflow/python/ops/math_ops.py:3066: to_int32 (from tensorflow.python.ops.math_ops) is deprecated and will be removed in a future version.\n",
      "Instructions for updating:\n",
      "Use tf.cast instead.\n",
      "Epoch 1/20\n",
      "22451/22451 [==============================] - 1057s 47ms/sample - loss: 0.9902 - acc: 0.6655 - val_loss: 0.5484 - val_acc: 0.7315\n",
      "Epoch 2/20\n",
      "22451/22451 [==============================] - 1045s 47ms/sample - loss: 0.4624 - acc: 0.7813 - val_loss: 0.5643 - val_acc: 0.7259\n",
      "Epoch 3/20\n",
      "22451/22451 [==============================] - 1196s 53ms/sample - loss: 0.2964 - acc: 0.8717 - val_loss: 0.6161 - val_acc: 0.7443\n",
      "Epoch 4/20\n",
      "22432/22451 [============================>.] - ETA: 1s - loss: 0.1224 - acc: 0.9561\n",
      "Reached 95% accuracy so cancelling training!\n",
      "22451/22451 [==============================] - 1387s 62ms/sample - loss: 0.1223 - acc: 0.9562 - val_loss: 0.8194 - val_acc: 0.7375\n"
     ]
    },
    {
     "data": {
      "text/plain": [
       "<tensorflow.python.keras.callbacks.History at 0x7f2c3d7f7c88>"
      ]
     },
     "execution_count": 4,
     "metadata": {},
     "output_type": "execute_result"
    }
   ],
   "source": [
    "model.compile(loss='binary_crossentropy',\n",
    "              optimizer='adam',\n",
    "              metrics=['acc'])\n",
    "model.fit(x, y, batch_size=32, validation_split=0.1, epochs=20, callbacks=[call])"
   ]
  },
  {
   "cell_type": "code",
   "execution_count": 5,
   "metadata": {},
   "outputs": [
    {
     "name": "stdout",
     "output_type": "stream",
     "text": [
      "24946/24946 [==============================] - 148s 6ms/sample - loss: 0.1246 - acc: 0.9670\n"
     ]
    },
    {
     "data": {
      "text/plain": [
       "[0.1246452777072516, 0.9670488]"
      ]
     },
     "execution_count": 5,
     "metadata": {},
     "output_type": "execute_result"
    }
   ],
   "source": [
    "model.evaluate(x,y)"
   ]
  }
 ],
 "metadata": {
  "kernelspec": {
   "display_name": "Python [conda env:ART]",
   "language": "python",
   "name": "conda-env-ART-py"
  },
  "language_info": {
   "codemirror_mode": {
    "name": "ipython",
    "version": 3
   },
   "file_extension": ".py",
   "mimetype": "text/x-python",
   "name": "python",
   "nbconvert_exporter": "python",
   "pygments_lexer": "ipython3",
   "version": "3.5.6"
  }
 },
 "nbformat": 4,
 "nbformat_minor": 2
}
